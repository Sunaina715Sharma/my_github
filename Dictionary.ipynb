{
 "cells": [
  {
   "cell_type": "code",
   "execution_count": 2,
   "id": "f8b25bcc",
   "metadata": {},
   "outputs": [
    {
     "name": "stdout",
     "output_type": "stream",
     "text": [
      "{'a': 1, 'b': 2, 'c': 3, 'd': 4, 's': 19, 'r': 18}\n"
     ]
    }
   ],
   "source": [
    "def fun(**kwargs):\n",
    "        print(kwargs)\n",
    "fun(a=1,b=2,c=3,d=4,s=19,r=18)"
   ]
  },
  {
   "cell_type": "markdown",
   "id": "df29ffe0",
   "metadata": {},
   "source": [
    "### Dictionary"
   ]
  },
  {
   "cell_type": "code",
   "execution_count": 1,
   "id": "04879f4c",
   "metadata": {},
   "outputs": [],
   "source": [
    "d = dict()"
   ]
  },
  {
   "cell_type": "code",
   "execution_count": 2,
   "id": "db2cdc58",
   "metadata": {},
   "outputs": [],
   "source": [
    "d[\"one\"] = 1\n",
    "d[\"two\"] = 2\n",
    "d[\"three\"] = 3"
   ]
  },
  {
   "cell_type": "code",
   "execution_count": 3,
   "id": "1860bcbd",
   "metadata": {},
   "outputs": [
    {
     "data": {
      "text/plain": [
       "{'one': 1, 'two': 2, 'three': 3}"
      ]
     },
     "execution_count": 3,
     "metadata": {},
     "output_type": "execute_result"
    }
   ],
   "source": [
    "d"
   ]
  },
  {
   "cell_type": "code",
   "execution_count": 4,
   "id": "fcbe1ede",
   "metadata": {},
   "outputs": [
    {
     "data": {
      "text/plain": [
       "1"
      ]
     },
     "execution_count": 4,
     "metadata": {},
     "output_type": "execute_result"
    }
   ],
   "source": [
    "d['one']"
   ]
  },
  {
   "cell_type": "code",
   "execution_count": 5,
   "id": "ca84b53c",
   "metadata": {},
   "outputs": [
    {
     "data": {
      "text/plain": [
       "2"
      ]
     },
     "execution_count": 5,
     "metadata": {},
     "output_type": "execute_result"
    }
   ],
   "source": [
    "d['two']"
   ]
  },
  {
   "cell_type": "code",
   "execution_count": 11,
   "id": "1010be44",
   "metadata": {},
   "outputs": [
    {
     "ename": "KeyError",
     "evalue": "'four'",
     "output_type": "error",
     "traceback": [
      "\u001b[1;31m---------------------------------------------------------------------------\u001b[0m",
      "\u001b[1;31mKeyError\u001b[0m                                  Traceback (most recent call last)",
      "\u001b[1;32m~\\AppData\\Local\\Temp/ipykernel_5996/1296755077.py\u001b[0m in \u001b[0;36m<module>\u001b[1;34m\u001b[0m\n\u001b[1;32m----> 1\u001b[1;33m \u001b[0md\u001b[0m\u001b[1;33m[\u001b[0m\u001b[1;34m'four'\u001b[0m\u001b[1;33m]\u001b[0m\u001b[1;33m\u001b[0m\u001b[1;33m\u001b[0m\u001b[0m\n\u001b[0m",
      "\u001b[1;31mKeyError\u001b[0m: 'four'"
     ]
    }
   ],
   "source": [
    "d['four'] #becoz this letter is not a part of our dictionary d"
   ]
  },
  {
   "cell_type": "code",
   "execution_count": 24,
   "id": "96ddc204",
   "metadata": {},
   "outputs": [
    {
     "data": {
      "text/plain": [
       "dict_items([('a', 'one'), ('b', 'two'), ('c', 's'), ('d', 'four'), ('e', 'five')])"
      ]
     },
     "execution_count": 24,
     "metadata": {},
     "output_type": "execute_result"
    }
   ],
   "source": [
    "# these are some important functions\n",
    "d.keys() # also used for key values\n",
    "d.values()   # also used for key \n",
    "d.items()    #we will get touple of dictionary"
   ]
  },
  {
   "cell_type": "code",
   "execution_count": 20,
   "id": "9413de4a",
   "metadata": {},
   "outputs": [
    {
     "data": {
      "text/plain": [
       "5"
      ]
     },
     "execution_count": 20,
     "metadata": {},
     "output_type": "execute_result"
    }
   ],
   "source": [
    "len(d) # len also works for dict"
   ]
  },
  {
   "cell_type": "code",
   "execution_count": 4,
   "id": "62475db3",
   "metadata": {},
   "outputs": [],
   "source": [
    "d = {'one': 1, 'two': 2, 'three': 3}"
   ]
  },
  {
   "cell_type": "code",
   "execution_count": 6,
   "id": "fc295292",
   "metadata": {},
   "outputs": [
    {
     "data": {
      "text/plain": [
       "True"
      ]
     },
     "execution_count": 6,
     "metadata": {},
     "output_type": "execute_result"
    }
   ],
   "source": [
    "'one' in d # it will find the values for keys but not for values of dictionary"
   ]
  },
  {
   "cell_type": "code",
   "execution_count": 27,
   "id": "8e435d0f",
   "metadata": {},
   "outputs": [
    {
     "data": {
      "text/plain": [
       "False"
      ]
     },
     "execution_count": 27,
     "metadata": {},
     "output_type": "execute_result"
    }
   ],
   "source": [
    "'1' in d"
   ]
  },
  {
   "cell_type": "code",
   "execution_count": 18,
   "id": "4faf030a",
   "metadata": {},
   "outputs": [
    {
     "data": {
      "text/plain": [
       "False"
      ]
     },
     "execution_count": 18,
     "metadata": {},
     "output_type": "execute_result"
    }
   ],
   "source": [
    "vals = d.values() # to see whether something appears as a value in dictionary\n",
    "'1' in vals"
   ]
  },
  {
   "cell_type": "code",
   "execution_count": 1,
   "id": "d1d7dbf9",
   "metadata": {},
   "outputs": [
    {
     "data": {
      "text/plain": [
       "{}"
      ]
     },
     "execution_count": 1,
     "metadata": {},
     "output_type": "execute_result"
    }
   ],
   "source": [
    "dict()"
   ]
  },
  {
   "cell_type": "code",
   "execution_count": 5,
   "id": "cf2e14a2",
   "metadata": {},
   "outputs": [
    {
     "ename": "SyntaxError",
     "evalue": "invalid syntax (Temp/ipykernel_6680/673927769.py, line 1)",
     "output_type": "error",
     "traceback": [
      "\u001b[1;36m  File \u001b[1;32m\"C:\\Users\\admin\\AppData\\Local\\Temp/ipykernel_6680/673927769.py\"\u001b[1;36m, line \u001b[1;32m1\u001b[0m\n\u001b[1;33m    d.\u001b[0m\n\u001b[1;37m      ^\u001b[0m\n\u001b[1;31mSyntaxError\u001b[0m\u001b[1;31m:\u001b[0m invalid syntax\n"
     ]
    }
   ],
   "source": [
    "d."
   ]
  },
  {
   "cell_type": "code",
   "execution_count": 2,
   "id": "6d5fbed6",
   "metadata": {},
   "outputs": [
    {
     "name": "stdout",
     "output_type": "stream",
     "text": [
      "a 1\n",
      "b 2\n",
      "c 3\n"
     ]
    }
   ],
   "source": [
    "#kwargs\n",
    "def fun(**kwargs):\n",
    "    for i,j in kwargs.items():\n",
    "        print(i,j)\n",
    "fun(a=1,b=2,c=3)"
   ]
  },
  {
   "cell_type": "code",
   "execution_count": 8,
   "id": "c01bddad",
   "metadata": {},
   "outputs": [
    {
     "name": "stdout",
     "output_type": "stream",
     "text": [
      "{'a': 1, 'b': 2, 'c': 3}\n",
      "a 1\n",
      "b 2\n",
      "c 3\n"
     ]
    }
   ],
   "source": [
    "#kwargs\n",
    "def fun(**kwargs):\n",
    "    print(kwargs)         #it will show kwargs as dictionary\n",
    "    for i,j in kwargs.items():\n",
    "        print(i,j)\n",
    "fun(a=1,b=2,c=3)"
   ]
  },
  {
   "cell_type": "code",
   "execution_count": 12,
   "id": "0cbcfa13",
   "metadata": {},
   "outputs": [],
   "source": [
    "d = { 'a' : 'one', 'b' : 'two', 'c' : 'three', 'd' : 'four', 'e' : 'five'}"
   ]
  },
  {
   "cell_type": "code",
   "execution_count": 13,
   "id": "62bd481e",
   "metadata": {},
   "outputs": [
    {
     "data": {
      "text/plain": [
       "'three'"
      ]
     },
     "execution_count": 13,
     "metadata": {},
     "output_type": "execute_result"
    }
   ],
   "source": [
    "d.get('c')"
   ]
  },
  {
   "cell_type": "code",
   "execution_count": 9,
   "id": "79f68893",
   "metadata": {},
   "outputs": [
    {
     "data": {
      "text/plain": [
       "'three'"
      ]
     },
     "execution_count": 9,
     "metadata": {},
     "output_type": "execute_result"
    }
   ],
   "source": [
    "d.pop('c')"
   ]
  },
  {
   "cell_type": "code",
   "execution_count": 7,
   "id": "421fba00",
   "metadata": {},
   "outputs": [
    {
     "data": {
      "text/plain": [
       "{'one': 1, 'two': 2, 'three': 3}"
      ]
     },
     "execution_count": 7,
     "metadata": {},
     "output_type": "execute_result"
    }
   ],
   "source": [
    "d"
   ]
  },
  {
   "cell_type": "code",
   "execution_count": 12,
   "id": "0fb08cdd",
   "metadata": {},
   "outputs": [
    {
     "data": {
      "text/plain": [
       "('e', 'five')"
      ]
     },
     "execution_count": 12,
     "metadata": {},
     "output_type": "execute_result"
    }
   ],
   "source": [
    "d.popitem()      # no need to define key. bydefalt it will always pop last item"
   ]
  },
  {
   "cell_type": "code",
   "execution_count": 9,
   "id": "032f54e8",
   "metadata": {},
   "outputs": [
    {
     "data": {
      "text/plain": [
       "{'one': 1, 'two': 2, 'three': 3}"
      ]
     },
     "execution_count": 9,
     "metadata": {},
     "output_type": "execute_result"
    }
   ],
   "source": [
    "d1 = d.copy()\n",
    "d1"
   ]
  },
  {
   "cell_type": "code",
   "execution_count": 16,
   "id": "06fbce7c",
   "metadata": {},
   "outputs": [
    {
     "data": {
      "text/plain": [
       "{1: 'euglena',\n",
       " 2: 'euglena',\n",
       " 3: 'euglena',\n",
       " 4: 'euglena',\n",
       " 5: 'euglena',\n",
       " 6: 'euglena'}"
      ]
     },
     "execution_count": 16,
     "metadata": {},
     "output_type": "execute_result"
    }
   ],
   "source": [
    "d.fromkeys([1,2,3,4,5,6],\"euglena\")"
   ]
  },
  {
   "cell_type": "code",
   "execution_count": 17,
   "id": "fccd6d26",
   "metadata": {},
   "outputs": [],
   "source": [
    "d.update()"
   ]
  },
  {
   "cell_type": "code",
   "execution_count": 20,
   "id": "64c2f6c1",
   "metadata": {},
   "outputs": [
    {
     "data": {
      "text/plain": [
       "{1: 23, 2: 98, 3: 56, 4: 54, 5: 67}"
      ]
     },
     "execution_count": 20,
     "metadata": {},
     "output_type": "execute_result"
    }
   ],
   "source": [
    "d1 = {1:23, 2:34, 3:56}    # see the difference\n",
    "d2 = {4:54, 5:67, 2:98}\n",
    "d1.update(d2)\n",
    "d1"
   ]
  },
  {
   "cell_type": "code",
   "execution_count": 23,
   "id": "37734de5",
   "metadata": {},
   "outputs": [
    {
     "data": {
      "text/plain": [
       "dict_keys(['a', 'b', 'd'])"
      ]
     },
     "execution_count": 23,
     "metadata": {},
     "output_type": "execute_result"
    }
   ],
   "source": [
    "d.keys()"
   ]
  },
  {
   "cell_type": "code",
   "execution_count": 24,
   "id": "f34c12ca",
   "metadata": {},
   "outputs": [
    {
     "data": {
      "text/plain": [
       "dict_items([('a', 'one'), ('b', 'two'), ('d', 'four')])"
      ]
     },
     "execution_count": 24,
     "metadata": {},
     "output_type": "execute_result"
    }
   ],
   "source": [
    "d.items()"
   ]
  },
  {
   "cell_type": "code",
   "execution_count": 11,
   "id": "71c43bb0",
   "metadata": {},
   "outputs": [],
   "source": [
    "a = {'one': 1, 'two': 2, 'three': 3}"
   ]
  },
  {
   "cell_type": "code",
   "execution_count": 12,
   "id": "139039d0",
   "metadata": {},
   "outputs": [
    {
     "data": {
      "text/plain": [
       "{'one': 1, 'two': 2, 'three': 3}"
      ]
     },
     "execution_count": 12,
     "metadata": {},
     "output_type": "execute_result"
    }
   ],
   "source": [
    "a"
   ]
  },
  {
   "cell_type": "code",
   "execution_count": 1,
   "id": "e07271a3",
   "metadata": {},
   "outputs": [
    {
     "data": {
      "text/plain": [
       "dict"
      ]
     },
     "execution_count": 1,
     "metadata": {},
     "output_type": "execute_result"
    }
   ],
   "source": [
    "d = {}\n",
    "type(d)"
   ]
  },
  {
   "cell_type": "markdown",
   "id": "efc9013b",
   "metadata": {},
   "source": [
    "###  nested dictionary"
   ]
  },
  {
   "cell_type": "code",
   "execution_count": 8,
   "id": "14b178f9",
   "metadata": {},
   "outputs": [
    {
     "ename": "SyntaxError",
     "evalue": "invalid syntax (Temp/ipykernel_2472/3149257659.py, line 1)",
     "output_type": "error",
     "traceback": [
      "\u001b[1;36m  File \u001b[1;32m\"C:\\Users\\admin\\AppData\\Local\\Temp/ipykernel_2472/3149257659.py\"\u001b[1;36m, line \u001b[1;32m1\u001b[0m\n\u001b[1;33m    d = {\"keys\":{\"nestedkey:{\"subnested\":values}}}\u001b[0m\n\u001b[1;37m                              ^\u001b[0m\n\u001b[1;31mSyntaxError\u001b[0m\u001b[1;31m:\u001b[0m invalid syntax\n"
     ]
    }
   ],
   "source": [
    "d = {\"keys\":{\"nestedkey:{\"subnested\":values}}}"
   ]
  },
  {
   "cell_type": "code",
   "execution_count": 9,
   "id": "81a25df6",
   "metadata": {},
   "outputs": [
    {
     "ename": "NameError",
     "evalue": "name 'keys' is not defined",
     "output_type": "error",
     "traceback": [
      "\u001b[1;31m---------------------------------------------------------------------------\u001b[0m",
      "\u001b[1;31mNameError\u001b[0m                                 Traceback (most recent call last)",
      "\u001b[1;32m~\\AppData\\Local\\Temp/ipykernel_2472/3762934241.py\u001b[0m in \u001b[0;36m<module>\u001b[1;34m\u001b[0m\n\u001b[1;32m----> 1\u001b[1;33m \u001b[0md\u001b[0m\u001b[1;33m[\u001b[0m\u001b[0mkeys\u001b[0m\u001b[1;33m:\u001b[0m\u001b[1;33m[\u001b[0m\u001b[0mnestedkey\u001b[0m\u001b[1;33m[\u001b[0m\u001b[0msubnested\u001b[0m\u001b[1;33m:\u001b[0m\u001b[1;33m]\u001b[0m\u001b[1;33m]\u001b[0m\u001b[1;33m]\u001b[0m\u001b[1;33m\u001b[0m\u001b[1;33m\u001b[0m\u001b[0m\n\u001b[0m",
      "\u001b[1;31mNameError\u001b[0m: name 'keys' is not defined"
     ]
    }
   ],
   "source": []
  },
  {
   "cell_type": "code",
   "execution_count": 33,
   "id": "ea0c2452",
   "metadata": {},
   "outputs": [],
   "source": [
    "d = {2:{3:{4:45}}}     #you need to find 45"
   ]
  },
  {
   "cell_type": "code",
   "execution_count": 6,
   "id": "495f5d75",
   "metadata": {},
   "outputs": [
    {
     "data": {
      "text/plain": [
       "45"
      ]
     },
     "execution_count": 6,
     "metadata": {},
     "output_type": "execute_result"
    }
   ],
   "source": [
    "d[2][3][4]"
   ]
  },
  {
   "cell_type": "code",
   "execution_count": null,
   "id": "673a665f",
   "metadata": {},
   "outputs": [],
   "source": [
    "a = {}"
   ]
  },
  {
   "cell_type": "code",
   "execution_count": 21,
   "id": "9b8691ff",
   "metadata": {},
   "outputs": [
    {
     "name": "stdout",
     "output_type": "stream",
     "text": [
      "aman  is young\n",
      "mohan  is gold\n",
      "srikanth  is gold\n",
      "paarul  is young\n"
     ]
    }
   ],
   "source": [
    "d_ages = {\"aman\":33, \"mohan\":45, \"srikanth\":39, \"paarul\":33}\n",
    "for i in d_ages.keys():\n",
    "    if d_ages[i]>35:\n",
    "        print(i,\" is gold\")\n",
    "    else:\n",
    "        print(i, \" is young\")"
   ]
  },
  {
   "cell_type": "code",
   "execution_count": 31,
   "id": "4bb7cfb3",
   "metadata": {},
   "outputs": [
    {
     "name": "stdout",
     "output_type": "stream",
     "text": [
      "aman is young\n",
      "mohan is old\n",
      "srikanth is old\n",
      "paarul is young\n"
     ]
    }
   ],
   "source": [
    "d_ages = {\"aman\":33, \"mohan\":45, \"srikanth\":39, \"paarul\":33}\n",
    "for i,j in d_ages.items():    #using items dict will be converted in touples\n",
    "    if j>35:\n",
    "        print(i,\"is old\")\n",
    "    else:\n",
    "        print(i,\"is young\")"
   ]
  },
  {
   "cell_type": "markdown",
   "id": "807835ca",
   "metadata": {},
   "source": [
    "###  Dictionary comprehension"
   ]
  },
  {
   "cell_type": "code",
   "execution_count": null,
   "id": "ef16404a",
   "metadata": {},
   "outputs": [],
   "source": [
    "# to understand dict comprehension we need to understand list comprehensions\n",
    "# it shortens possible way to create a list"
   ]
  },
  {
   "cell_type": "code",
   "execution_count": 1,
   "id": "704b7725",
   "metadata": {},
   "outputs": [
    {
     "ename": "NameError",
     "evalue": "name 'logic' is not defined",
     "output_type": "error",
     "traceback": [
      "\u001b[1;31m---------------------------------------------------------------------------\u001b[0m",
      "\u001b[1;31mNameError\u001b[0m                                 Traceback (most recent call last)",
      "\u001b[1;32m~\\AppData\\Local\\Temp/ipykernel_1572/2408306577.py\u001b[0m in \u001b[0;36m<module>\u001b[1;34m\u001b[0m\n\u001b[0;32m      1\u001b[0m \u001b[1;31m# list comprehension\u001b[0m\u001b[1;33m\u001b[0m\u001b[1;33m\u001b[0m\u001b[0m\n\u001b[1;32m----> 2\u001b[1;33m \u001b[1;33m[\u001b[0m\u001b[0mlogic\u001b[0m\u001b[1;33m(\u001b[0m\u001b[0mi\u001b[0m\u001b[1;33m**\u001b[0m\u001b[1;36m2\u001b[0m\u001b[1;33m)\u001b[0m \u001b[1;32mfor\u001b[0m \u001b[0mi\u001b[0m \u001b[1;32min\u001b[0m \u001b[0mrange\u001b[0m\u001b[1;33m(\u001b[0m\u001b[1;36m1\u001b[0m\u001b[1;33m,\u001b[0m\u001b[1;36m11\u001b[0m\u001b[1;33m)\u001b[0m\u001b[1;33m]\u001b[0m\u001b[1;33m\u001b[0m\u001b[1;33m\u001b[0m\u001b[0m\n\u001b[0m",
      "\u001b[1;32m~\\AppData\\Local\\Temp/ipykernel_1572/2408306577.py\u001b[0m in \u001b[0;36m<listcomp>\u001b[1;34m(.0)\u001b[0m\n\u001b[0;32m      1\u001b[0m \u001b[1;31m# list comprehension\u001b[0m\u001b[1;33m\u001b[0m\u001b[1;33m\u001b[0m\u001b[0m\n\u001b[1;32m----> 2\u001b[1;33m \u001b[1;33m[\u001b[0m\u001b[0mlogic\u001b[0m\u001b[1;33m(\u001b[0m\u001b[0mi\u001b[0m\u001b[1;33m**\u001b[0m\u001b[1;36m2\u001b[0m\u001b[1;33m)\u001b[0m \u001b[1;32mfor\u001b[0m \u001b[0mi\u001b[0m \u001b[1;32min\u001b[0m \u001b[0mrange\u001b[0m\u001b[1;33m(\u001b[0m\u001b[1;36m1\u001b[0m\u001b[1;33m,\u001b[0m\u001b[1;36m11\u001b[0m\u001b[1;33m)\u001b[0m\u001b[1;33m]\u001b[0m\u001b[1;33m\u001b[0m\u001b[1;33m\u001b[0m\u001b[0m\n\u001b[0m",
      "\u001b[1;31mNameError\u001b[0m: name 'logic' is not defined"
     ]
    }
   ],
   "source": [
    "# list comprehension\n",
    "[logic(i**2) for i in range(1,11)]"
   ]
  },
  {
   "cell_type": "code",
   "execution_count": null,
   "id": "97e28fb5",
   "metadata": {},
   "outputs": [],
   "source": [
    " WAP to print the square of numbers from 1 to 20 and then print them in a list  "
   ]
  },
  {
   "cell_type": "code",
   "execution_count": 35,
   "id": "e792e66a",
   "metadata": {},
   "outputs": [
    {
     "name": "stdout",
     "output_type": "stream",
     "text": [
      "[1, 4, 9, 16, 25, 36, 49, 64, 81, 100, 121, 144, 169, 196, 225, 256, 289, 324, 361, 400]\n"
     ]
    }
   ],
   "source": [
    "l = list()\n",
    "def square():\n",
    "    for i in range(1,21):\n",
    "        l.append(i**2)\n",
    "    print(l)\n",
    "square()"
   ]
  },
  {
   "cell_type": "code",
   "execution_count": 1,
   "id": "cb13c750",
   "metadata": {},
   "outputs": [
    {
     "name": "stdout",
     "output_type": "stream",
     "text": [
      "[3, 5, 7, 9, 11, 13, 15, 17, 19, 21, 23, 25, 27, 29, 31, 33, 35, 37, 39, 41]\n"
     ]
    }
   ],
   "source": [
    "l = list()\n",
    "def fun():\n",
    "    for i in range(1,21):\n",
    "        l.append(2*i+1)\n",
    "    print(l)\n",
    "fun()"
   ]
  },
  {
   "cell_type": "code",
   "execution_count": 1,
   "id": "7447c99a",
   "metadata": {},
   "outputs": [
    {
     "name": "stdout",
     "output_type": "stream",
     "text": [
      "[1]\n",
      "[1, 4]\n",
      "[1, 4, 9]\n",
      "[1, 4, 9, 16]\n",
      "[1, 4, 9, 16, 25]\n",
      "[1, 4, 9, 16, 25, 36]\n",
      "[1, 4, 9, 16, 25, 36, 49]\n",
      "[1, 4, 9, 16, 25, 36, 49, 64]\n",
      "[1, 4, 9, 16, 25, 36, 49, 64, 81]\n",
      "[1, 4, 9, 16, 25, 36, 49, 64, 81, 100]\n",
      "[1, 4, 9, 16, 25, 36, 49, 64, 81, 100, 121]\n",
      "[1, 4, 9, 16, 25, 36, 49, 64, 81, 100, 121, 144]\n",
      "[1, 4, 9, 16, 25, 36, 49, 64, 81, 100, 121, 144, 169]\n",
      "[1, 4, 9, 16, 25, 36, 49, 64, 81, 100, 121, 144, 169, 196]\n",
      "[1, 4, 9, 16, 25, 36, 49, 64, 81, 100, 121, 144, 169, 196, 225]\n",
      "[1, 4, 9, 16, 25, 36, 49, 64, 81, 100, 121, 144, 169, 196, 225, 256]\n",
      "[1, 4, 9, 16, 25, 36, 49, 64, 81, 100, 121, 144, 169, 196, 225, 256, 289]\n",
      "[1, 4, 9, 16, 25, 36, 49, 64, 81, 100, 121, 144, 169, 196, 225, 256, 289, 324]\n",
      "[1, 4, 9, 16, 25, 36, 49, 64, 81, 100, 121, 144, 169, 196, 225, 256, 289, 324, 361]\n",
      "[1, 4, 9, 16, 25, 36, 49, 64, 81, 100, 121, 144, 169, 196, 225, 256, 289, 324, 361, 400]\n"
     ]
    }
   ],
   "source": [
    "l = list()\n",
    "def square():\n",
    "    for i in range(1,21):\n",
    "        l.append(i**2)\n",
    "        print(l)\n",
    "square()"
   ]
  },
  {
   "cell_type": "code",
   "execution_count": 36,
   "id": "df86db32",
   "metadata": {},
   "outputs": [
    {
     "name": "stdout",
     "output_type": "stream",
     "text": [
      "[1, 4, 9, 16, 25, 36, 49, 64, 81, 100, 121, 144, 169, 196, 225, 256, 289, 324, 361, 400]\n"
     ]
    }
   ],
   "source": [
    "l = list()\n",
    "def square():\n",
    "    for i in range(1,21):\n",
    "        l.append(i**2)\n",
    "    print(l)\n",
    "square()"
   ]
  },
  {
   "cell_type": "code",
   "execution_count": 11,
   "id": "51b20a96",
   "metadata": {},
   "outputs": [
    {
     "data": {
      "text/plain": [
       "[4,\n",
       " 9,\n",
       " 16,\n",
       " 25,\n",
       " 36,\n",
       " 49,\n",
       " 64,\n",
       " 81,\n",
       " 100,\n",
       " 121,\n",
       " 144,\n",
       " 169,\n",
       " 196,\n",
       " 225,\n",
       " 256,\n",
       " 289,\n",
       " 324,\n",
       " 361,\n",
       " 400]"
      ]
     },
     "execution_count": 11,
     "metadata": {},
     "output_type": "execute_result"
    }
   ],
   "source": [
    "[i**2 for i in range(2,21)]"
   ]
  },
  {
   "cell_type": "code",
   "execution_count": 12,
   "id": "0cb2256f",
   "metadata": {},
   "outputs": [
    {
     "data": {
      "text/plain": [
       "{1: 1, 2: 4, 3: 9, 4: 16, 5: 25, 6: 36, 7: 49, 8: 64, 9: 81, 10: 100}"
      ]
     },
     "execution_count": 12,
     "metadata": {},
     "output_type": "execute_result"
    }
   ],
   "source": [
    "#for dictionary the same fuction can be performed as below\n",
    "{i:i**2 for i in range(1,11)}"
   ]
  },
  {
   "cell_type": "code",
   "execution_count": 4,
   "id": "6879883e",
   "metadata": {},
   "outputs": [
    {
     "name": "stdout",
     "output_type": "stream",
     "text": [
      "4\n",
      "27\n",
      "16\n",
      "125\n",
      "36\n",
      "343\n",
      "64\n",
      "729\n"
     ]
    }
   ],
   "source": [
    "d = {}\n",
    "for i in range(2,10):\n",
    "    if i%2 ==0:\n",
    "        print(i**2)\n",
    "#           d[i**2]\n",
    "    else:\n",
    "        print(i**3)\n",
    "    "
   ]
  },
  {
   "cell_type": "code",
   "execution_count": 13,
   "id": "3112adc6",
   "metadata": {},
   "outputs": [
    {
     "data": {
      "text/plain": [
       "{1: 1,\n",
       " 2: 4,\n",
       " 3: 27,\n",
       " 4: 16,\n",
       " 5: 125,\n",
       " 6: 36,\n",
       " 7: 343,\n",
       " 8: 64,\n",
       " 9: 729,\n",
       " 10: 100,\n",
       " 11: 1331,\n",
       " 12: 144,\n",
       " 13: 2197,\n",
       " 14: 196,\n",
       " 15: 3375,\n",
       " 16: 256,\n",
       " 17: 4913,\n",
       " 18: 324,\n",
       " 19: 6859,\n",
       " 20: 400}"
      ]
     },
     "execution_count": 13,
     "metadata": {},
     "output_type": "execute_result"
    }
   ],
   "source": [
    "{i:i**2 if i%2==0 else i**3 for i in range(1,21)}   #dictionary comprehensions\n",
    "                                                    # to calculate the cube of even numbers"
   ]
  },
  {
   "cell_type": "code",
   "execution_count": null,
   "id": "d847ed1b",
   "metadata": {},
   "outputs": [],
   "source": [
    "ITERATORS:\n",
    "    THEY ARE LAZY EVALUATORS AS THEY FETCH ONLY ONE VALUE AT A TIME\n",
    "    ONLY CREATED BY ITERATORS\n",
    "    "
   ]
  },
  {
   "cell_type": "code",
   "execution_count": 21,
   "id": "4d88b855",
   "metadata": {},
   "outputs": [
    {
     "data": {
      "text/plain": [
       "<list_iterator at 0x22d3697e310>"
      ]
     },
     "execution_count": 21,
     "metadata": {},
     "output_type": "execute_result"
    }
   ],
   "source": [
    "a = iter([1,2,3,4,5])\n",
    "a"
   ]
  },
  {
   "cell_type": "code",
   "execution_count": 23,
   "id": "9140d393",
   "metadata": {},
   "outputs": [
    {
     "data": {
      "text/plain": [
       "2"
      ]
     },
     "execution_count": 23,
     "metadata": {},
     "output_type": "execute_result"
    }
   ],
   "source": [
    "next(a)    # we can execut it again and again  "
   ]
  },
  {
   "cell_type": "code",
   "execution_count": null,
   "id": "41c4f988",
   "metadata": {},
   "outputs": [],
   "source": [
    "# generator is use defined function (use yield)\n",
    "# iterator is built - in function( use next)"
   ]
  },
  {
   "cell_type": "code",
   "execution_count": 24,
   "id": "135dd58a",
   "metadata": {},
   "outputs": [
    {
     "data": {
      "text/plain": [
       "30"
      ]
     },
     "execution_count": 24,
     "metadata": {},
     "output_type": "execute_result"
    }
   ],
   "source": [
    "def fun():\n",
    "    return 10+20\n",
    "fun()"
   ]
  },
  {
   "cell_type": "code",
   "execution_count": 3,
   "id": "6b32f5be",
   "metadata": {},
   "outputs": [
    {
     "ename": "SyntaxError",
     "evalue": "invalid syntax (Temp/ipykernel_1572/908727391.py, line 1)",
     "output_type": "error",
     "traceback": [
      "\u001b[1;36m  File \u001b[1;32m\"C:\\Users\\admin\\AppData\\Local\\Temp/ipykernel_1572/908727391.py\"\u001b[1;36m, line \u001b[1;32m1\u001b[0m\n\u001b[1;33m    based on irators are follows\u001b[0m\n\u001b[1;37m          ^\u001b[0m\n\u001b[1;31mSyntaxError\u001b[0m\u001b[1;31m:\u001b[0m invalid syntax\n"
     ]
    }
   ],
   "source": [
    "based on irators are follows"
   ]
  },
  {
   "cell_type": "code",
   "execution_count": 37,
   "id": "a40f3219",
   "metadata": {},
   "outputs": [
    {
     "name": "stdout",
     "output_type": "stream",
     "text": [
      "10 20 30 40 50\n"
     ]
    }
   ],
   "source": [
    "a = list(map(float,input().split()))"
   ]
  },
  {
   "cell_type": "code",
   "execution_count": 38,
   "id": "a09d8041",
   "metadata": {},
   "outputs": [
    {
     "data": {
      "text/plain": [
       "[10.0, 20.0, 30.0, 40.0, 50.0]"
      ]
     },
     "execution_count": 38,
     "metadata": {},
     "output_type": "execute_result"
    }
   ],
   "source": [
    "a"
   ]
  },
  {
   "cell_type": "code",
   "execution_count": 39,
   "id": "78490428",
   "metadata": {},
   "outputs": [
    {
     "data": {
      "text/plain": [
       "float"
      ]
     },
     "execution_count": 39,
     "metadata": {},
     "output_type": "execute_result"
    }
   ],
   "source": [
    "type(a[0])"
   ]
  },
  {
   "cell_type": "code",
   "execution_count": 21,
   "id": "1956903f",
   "metadata": {},
   "outputs": [],
   "source": [
    "l1 = [1,3,5,7,9]\n",
    "l2 = [1,2,4,6,8,9]"
   ]
  },
  {
   "cell_type": "code",
   "execution_count": 22,
   "id": "1fb51680",
   "metadata": {},
   "outputs": [],
   "source": [
    "def fun(a,b):\n",
    "    c = a+b\n",
    "    return"
   ]
  },
  {
   "cell_type": "code",
   "execution_count": 24,
   "id": "56ff4e35",
   "metadata": {},
   "outputs": [
    {
     "data": {
      "text/plain": [
       "[None, None, None, None, None]"
      ]
     },
     "execution_count": 24,
     "metadata": {},
     "output_type": "execute_result"
    }
   ],
   "source": [
    "l1 = [1,3,5,7,9]\n",
    "l2 = [1,2,4,6,8,9]\n",
    "list(map(fun,l1,l2))"
   ]
  },
  {
   "cell_type": "code",
   "execution_count": 25,
   "id": "01a93c5f",
   "metadata": {},
   "outputs": [
    {
     "ename": "TypeError",
     "evalue": "map() must have at least two arguments.",
     "output_type": "error",
     "traceback": [
      "\u001b[1;31m---------------------------------------------------------------------------\u001b[0m",
      "\u001b[1;31mTypeError\u001b[0m                                 Traceback (most recent call last)",
      "\u001b[1;32m~\\AppData\\Local\\Temp/ipykernel_10536/4127625168.py\u001b[0m in \u001b[0;36m<module>\u001b[1;34m\u001b[0m\n\u001b[0;32m      1\u001b[0m \u001b[0ml1\u001b[0m \u001b[1;33m=\u001b[0m \u001b[1;33m[\u001b[0m\u001b[1;36m1\u001b[0m\u001b[1;33m,\u001b[0m\u001b[1;36m3\u001b[0m\u001b[1;33m,\u001b[0m\u001b[1;36m5\u001b[0m\u001b[1;33m,\u001b[0m\u001b[1;36m7\u001b[0m\u001b[1;33m,\u001b[0m\u001b[1;36m9\u001b[0m\u001b[1;33m]\u001b[0m\u001b[1;33m\u001b[0m\u001b[1;33m\u001b[0m\u001b[0m\n\u001b[0;32m      2\u001b[0m \u001b[0ml2\u001b[0m \u001b[1;33m=\u001b[0m \u001b[1;33m[\u001b[0m\u001b[1;36m1\u001b[0m\u001b[1;33m,\u001b[0m\u001b[1;36m2\u001b[0m\u001b[1;33m,\u001b[0m\u001b[1;36m4\u001b[0m\u001b[1;33m,\u001b[0m\u001b[1;36m6\u001b[0m\u001b[1;33m,\u001b[0m\u001b[1;36m8\u001b[0m\u001b[1;33m,\u001b[0m\u001b[1;36m9\u001b[0m\u001b[1;33m]\u001b[0m\u001b[1;33m\u001b[0m\u001b[1;33m\u001b[0m\u001b[0m\n\u001b[1;32m----> 3\u001b[1;33m \u001b[0mlist\u001b[0m\u001b[1;33m(\u001b[0m\u001b[0mmap\u001b[0m\u001b[1;33m(\u001b[0m\u001b[1;32mlambda\u001b[0m \u001b[0mc\u001b[0m\u001b[1;33m:\u001b[0m\u001b[1;33m(\u001b[0m\u001b[0ml1\u001b[0m\u001b[1;33m+\u001b[0m\u001b[0ml2\u001b[0m\u001b[1;33m,\u001b[0m\u001b[0ml1\u001b[0m\u001b[1;33m,\u001b[0m\u001b[0ml2\u001b[0m\u001b[1;33m)\u001b[0m\u001b[1;33m)\u001b[0m\u001b[1;33m)\u001b[0m\u001b[1;33m\u001b[0m\u001b[1;33m\u001b[0m\u001b[0m\n\u001b[0m",
      "\u001b[1;31mTypeError\u001b[0m: map() must have at least two arguments."
     ]
    }
   ],
   "source": [
    "l1 = [1,3,5,7,9]\n",
    "l2 = [1,2,4,6,8,9]\n",
    "list(map(lambda c:(l1+l2,l1,l2)))"
   ]
  },
  {
   "cell_type": "code",
   "execution_count": null,
   "id": "ac4dd81a",
   "metadata": {},
   "outputs": [],
   "source": [
    "#anonymous function lambda"
   ]
  },
  {
   "cell_type": "code",
   "execution_count": 18,
   "id": "ce8c9dfd",
   "metadata": {},
   "outputs": [],
   "source": [
    "c = {0,20,40,-40,50}"
   ]
  },
  {
   "cell_type": "code",
   "execution_count": 19,
   "id": "dfcbba1f",
   "metadata": {},
   "outputs": [],
   "source": [
    "def fun(c):\n",
    "    f = 9/5*c +32\n",
    "    return f"
   ]
  },
  {
   "cell_type": "code",
   "execution_count": 20,
   "id": "5574a5d4",
   "metadata": {},
   "outputs": [
    {
     "data": {
      "text/plain": [
       "[32.0, 68.0, -40.0, 104.0, 122.0]"
      ]
     },
     "execution_count": 20,
     "metadata": {},
     "output_type": "execute_result"
    }
   ],
   "source": [
    "l1 = [0,20,-40,40,50]\n",
    "list(map(fun,l1))"
   ]
  },
  {
   "cell_type": "code",
   "execution_count": 24,
   "id": "28b20c34",
   "metadata": {},
   "outputs": [
    {
     "data": {
      "text/plain": [
       "[32.0, 68.0, -40.0, 104.0, 122.0]"
      ]
     },
     "execution_count": 24,
     "metadata": {},
     "output_type": "execute_result"
    }
   ],
   "source": [
    "l1 = [0,20,-40,40,50]\n",
    "list(map(lambda c:(9/5)*c +32,l1))\n"
   ]
  },
  {
   "cell_type": "code",
   "execution_count": null,
   "id": "237cb36d",
   "metadata": {},
   "outputs": [],
   "source": [
    "a = lambda c:(9/5)*c +32\n",
    "a(0)\n"
   ]
  },
  {
   "cell_type": "code",
   "execution_count": null,
   "id": "dd69ee00",
   "metadata": {},
   "outputs": [],
   "source": [
    "a = lambda"
   ]
  },
  {
   "cell_type": "code",
   "execution_count": 32,
   "id": "7b8fe893",
   "metadata": {},
   "outputs": [
    {
     "data": {
      "text/plain": [
       "[555.36552, 5572.453333333333, 2143.5733333333333]"
      ]
     },
     "execution_count": 32,
     "metadata": {},
     "output_type": "execute_result"
    }
   ],
   "source": [
    "radius = [5.10,11,8]\n",
    "list(map(lambda r:4/3*3.14*r**3,radius))\n"
   ]
  },
  {
   "cell_type": "markdown",
   "id": "239b240e",
   "metadata": {},
   "source": [
    "### Filter"
   ]
  },
  {
   "cell_type": "code",
   "execution_count": null,
   "id": "fa01bf8b",
   "metadata": {},
   "outputs": [],
   "source": [
    "filter :\n",
    "    filter(function,iterable)"
   ]
  },
  {
   "cell_type": "code",
   "execution_count": 32,
   "id": "c0e359b0",
   "metadata": {},
   "outputs": [
    {
     "data": {
      "text/plain": [
       "[12, 88, 44]"
      ]
     },
     "execution_count": 32,
     "metadata": {},
     "output_type": "execute_result"
    }
   ],
   "source": [
    "l1 = [12,45,23,88,65,44]\n",
    "list(filter(lambda x:x if x%2==0 else \"\",l1))\n"
   ]
  },
  {
   "cell_type": "code",
   "execution_count": 4,
   "id": "ba47cef0",
   "metadata": {},
   "outputs": [
    {
     "data": {
      "text/plain": [
       "[3, 75, 90]"
      ]
     },
     "execution_count": 4,
     "metadata": {},
     "output_type": "execute_result"
    }
   ],
   "source": [
    "l = [2,3,56,75,90]\n",
    "list(filter(lambda x:x if x%3==0 else \"\",l))"
   ]
  },
  {
   "cell_type": "markdown",
   "id": "da4b787f",
   "metadata": {},
   "source": [
    "###  Generators"
   ]
  },
  {
   "cell_type": "markdown",
   "id": "3c27e622",
   "metadata": {},
   "source": [
    "they are also like iterators, the difference is iterator can be made using a built-in function \n",
    "itr() and the value can be accesed one at a time by next()\n"
   ]
  },
  {
   "cell_type": "code",
   "execution_count": 5,
   "id": "0baac838",
   "metadata": {},
   "outputs": [
    {
     "data": {
      "text/plain": [
       "<generator object fun at 0x0000027D2016DCF0>"
      ]
     },
     "execution_count": 5,
     "metadata": {},
     "output_type": "execute_result"
    }
   ],
   "source": [
    "def fun(a,b):\n",
    "    c = a+b\n",
    "    yield c\n",
    "fun(10,45)"
   ]
  },
  {
   "cell_type": "code",
   "execution_count": 6,
   "id": "ebb6d107",
   "metadata": {},
   "outputs": [
    {
     "data": {
      "text/plain": [
       "55"
      ]
     },
     "execution_count": 6,
     "metadata": {},
     "output_type": "execute_result"
    }
   ],
   "source": [
    "a = fun(10,45)\n",
    "next(a)"
   ]
  },
  {
   "cell_type": "code",
   "execution_count": 7,
   "id": "0c730ca8",
   "metadata": {},
   "outputs": [
    {
     "data": {
      "text/plain": [
       "<generator object fib at 0x0000027D2016DF20>"
      ]
     },
     "execution_count": 7,
     "metadata": {},
     "output_type": "execute_result"
    }
   ],
   "source": [
    "# WAP to create fibonaci series using generator function\n",
    "def fib(n):\n",
    "    a = 0\n",
    "    b = 1\n",
    "    for i in range(n):\n",
    "        c = a\n",
    "        a = b\n",
    "        b = a+c\n",
    "        yield c\n",
    "fib(10)"
   ]
  },
  {
   "cell_type": "code",
   "execution_count": 9,
   "id": "4ff6b4a8",
   "metadata": {},
   "outputs": [
    {
     "name": "stdout",
     "output_type": "stream",
     "text": [
      "0\n",
      "1\n",
      "1\n",
      "2\n",
      "3\n",
      "5\n",
      "8\n",
      "13\n",
      "21\n",
      "34\n"
     ]
    }
   ],
   "source": [
    "for i in fib(10):\n",
    "    print(i)"
   ]
  },
  {
   "cell_type": "code",
   "execution_count": 2,
   "id": "ff5cb734",
   "metadata": {},
   "outputs": [],
   "source": [
    "d = { 'a' : 'one', 'b' : 'two', 'c' : 'three', 'd' : 'four', 'e' : 'five'}"
   ]
  },
  {
   "cell_type": "code",
   "execution_count": 3,
   "id": "2961ae31",
   "metadata": {},
   "outputs": [
    {
     "data": {
      "text/plain": [
       "5"
      ]
     },
     "execution_count": 3,
     "metadata": {},
     "output_type": "execute_result"
    }
   ],
   "source": [
    "len(d)"
   ]
  },
  {
   "cell_type": "code",
   "execution_count": 16,
   "id": "974fb348",
   "metadata": {},
   "outputs": [
    {
     "data": {
      "text/plain": [
       "True"
      ]
     },
     "execution_count": 16,
     "metadata": {},
     "output_type": "execute_result"
    }
   ],
   "source": [
    "'b' in d"
   ]
  },
  {
   "cell_type": "code",
   "execution_count": 17,
   "id": "2d484eb6",
   "metadata": {},
   "outputs": [
    {
     "data": {
      "text/plain": [
       "False"
      ]
     },
     "execution_count": 17,
     "metadata": {},
     "output_type": "execute_result"
    }
   ],
   "source": [
    "'two' in d"
   ]
  },
  {
   "cell_type": "code",
   "execution_count": 19,
   "id": "5e1b0b3f",
   "metadata": {},
   "outputs": [
    {
     "data": {
      "text/plain": [
       "True"
      ]
     },
     "execution_count": 19,
     "metadata": {},
     "output_type": "execute_result"
    }
   ],
   "source": [
    "values = d.values()\n",
    "'two' in values"
   ]
  },
  {
   "cell_type": "code",
   "execution_count": 2,
   "id": "11db8b34",
   "metadata": {},
   "outputs": [],
   "source": [
    "def histogram(s):\n",
    "    d = dict()\n",
    "    for c in s:\n",
    "        if c not in d:\n",
    "            d[c] = 1\n",
    "        else:\n",
    "            d[c] += 1\n",
    "    return d"
   ]
  },
  {
   "cell_type": "code",
   "execution_count": 3,
   "id": "d3fbfd25",
   "metadata": {},
   "outputs": [
    {
     "data": {
      "text/plain": [
       "{'a': 1, 'b': 1, 'o': 2, 'n': 1, 's': 2, 'r': 2, 'u': 2, 't': 1}"
      ]
     },
     "execution_count": 3,
     "metadata": {},
     "output_type": "execute_result"
    }
   ],
   "source": [
    "h = histogram('brontosaurus')\n",
    "h\n",
    "{'a': 1, 'b': 1, 'o': 2, 'n': 1, 's': 2, 'r': 2, 'u': 2, 't': 1}"
   ]
  },
  {
   "cell_type": "code",
   "execution_count": 4,
   "id": "a7813e3b",
   "metadata": {},
   "outputs": [],
   "source": [
    "d = { 'a' : 'one', 'b' : 'two', 'c' : 'three', 'd' : 'four', 'e' : 'five'}"
   ]
  },
  {
   "cell_type": "code",
   "execution_count": 9,
   "id": "3c66939d",
   "metadata": {},
   "outputs": [
    {
     "data": {
      "text/plain": [
       "'five'"
      ]
     },
     "execution_count": 9,
     "metadata": {},
     "output_type": "execute_result"
    }
   ],
   "source": [
    "x = d.get('c',0)          #get function\n",
    "x\n",
    "y = d.get('e')\n",
    "y"
   ]
  },
  {
   "cell_type": "code",
   "execution_count": 12,
   "id": "9b0a3711",
   "metadata": {},
   "outputs": [],
   "source": [
    "d =  { 'a' : 'one', 'b' : 'two', 'c' : 'three', 'd' : 'four', 'e' : 'five'}"
   ]
  },
  {
   "cell_type": "code",
   "execution_count": 13,
   "id": "6247a33f",
   "metadata": {},
   "outputs": [
    {
     "name": "stdout",
     "output_type": "stream",
     "text": [
      "a one\n",
      "b two\n",
      "c three\n",
      "d four\n",
      "e five\n"
     ]
    }
   ],
   "source": [
    "def prnt(d):\n",
    "    for i in d:\n",
    "        print(i,d[i])\n",
    "prnt(d)"
   ]
  },
  {
   "cell_type": "code",
   "execution_count": 14,
   "id": "62cc3b63",
   "metadata": {},
   "outputs": [
    {
     "data": {
      "text/plain": [
       "{}"
      ]
     },
     "execution_count": 14,
     "metadata": {},
     "output_type": "execute_result"
    }
   ],
   "source": [
    "dict()"
   ]
  },
  {
   "cell_type": "code",
   "execution_count": 15,
   "id": "824f471d",
   "metadata": {},
   "outputs": [
    {
     "ename": "AttributeError",
     "evalue": "'dict' object has no attribute 'sort'",
     "output_type": "error",
     "traceback": [
      "\u001b[1;31m---------------------------------------------------------------------------\u001b[0m",
      "\u001b[1;31mAttributeError\u001b[0m                            Traceback (most recent call last)",
      "\u001b[1;32m~\\AppData\\Local\\Temp/ipykernel_6680/2162163674.py\u001b[0m in \u001b[0;36m<module>\u001b[1;34m\u001b[0m\n\u001b[1;32m----> 1\u001b[1;33m \u001b[0md\u001b[0m\u001b[1;33m.\u001b[0m\u001b[0msort\u001b[0m\u001b[1;33m\u001b[0m\u001b[1;33m\u001b[0m\u001b[0m\n\u001b[0m",
      "\u001b[1;31mAttributeError\u001b[0m: 'dict' object has no attribute 'sort'"
     ]
    }
   ],
   "source": [
    "d.sort"
   ]
  },
  {
   "cell_type": "code",
   "execution_count": 16,
   "id": "8e844bc7",
   "metadata": {},
   "outputs": [
    {
     "data": {
      "text/plain": [
       "{'a': 'one', 'b': 'two', 'c': 's', 'd': 'four', 'e': 'five'}"
      ]
     },
     "execution_count": 16,
     "metadata": {},
     "output_type": "execute_result"
    }
   ],
   "source": [
    "d['c'] = 's'# dictionary allows duplicacy\n",
    "d"
   ]
  },
  {
   "cell_type": "code",
   "execution_count": 18,
   "id": "16c0cd82",
   "metadata": {},
   "outputs": [
    {
     "data": {
      "text/plain": [
       "'one'"
      ]
     },
     "execution_count": 18,
     "metadata": {},
     "output_type": "execute_result"
    }
   ],
   "source": [
    "d.get('a')"
   ]
  },
  {
   "cell_type": "code",
   "execution_count": 21,
   "id": "894753d4",
   "metadata": {},
   "outputs": [
    {
     "data": {
      "text/plain": [
       "('e', 'five')"
      ]
     },
     "execution_count": 21,
     "metadata": {},
     "output_type": "execute_result"
    }
   ],
   "source": [
    "d.popitem()"
   ]
  },
  {
   "cell_type": "code",
   "execution_count": 23,
   "id": "9d621348",
   "metadata": {},
   "outputs": [
    {
     "data": {
      "text/plain": [
       "'two'"
      ]
     },
     "execution_count": 23,
     "metadata": {},
     "output_type": "execute_result"
    }
   ],
   "source": [
    "d.pop('b')"
   ]
  },
  {
   "cell_type": "code",
   "execution_count": 25,
   "id": "fdc857b0",
   "metadata": {},
   "outputs": [
    {
     "data": {
      "text/plain": [
       "{'a': 'one', 'c': 's', 'd': 'four'}"
      ]
     },
     "execution_count": 25,
     "metadata": {},
     "output_type": "execute_result"
    }
   ],
   "source": [
    "d1 = d.copy()\n",
    "d1"
   ]
  },
  {
   "cell_type": "code",
   "execution_count": 29,
   "id": "aee00110",
   "metadata": {},
   "outputs": [
    {
     "data": {
      "text/plain": [
       "{}"
      ]
     },
     "execution_count": 29,
     "metadata": {},
     "output_type": "execute_result"
    }
   ],
   "source": [
    "d1.clear()\n",
    "d1"
   ]
  },
  {
   "cell_type": "code",
   "execution_count": 30,
   "id": "281c5414",
   "metadata": {},
   "outputs": [
    {
     "data": {
      "text/plain": [
       "{1: 'aman', 2: 'aman', 3: 'aman', 4: 'aman', 5: 'aman'}"
      ]
     },
     "execution_count": 30,
     "metadata": {},
     "output_type": "execute_result"
    }
   ],
   "source": [
    "d.fromkeys([1,2,3,4,5],\"aman\")"
   ]
  },
  {
   "cell_type": "code",
   "execution_count": null,
   "id": "88e527cf",
   "metadata": {},
   "outputs": [],
   "source": [
    "d.update"
   ]
  },
  {
   "cell_type": "code",
   "execution_count": 31,
   "id": "eb7511da",
   "metadata": {},
   "outputs": [],
   "source": [
    "d1 = {1:25, 2:50, 3:75, 4:100}\n",
    "d2 = {5:125, 3:150, 4:175}\n",
    "d1.update(d2)"
   ]
  },
  {
   "cell_type": "code",
   "execution_count": 32,
   "id": "c395e0ac",
   "metadata": {},
   "outputs": [
    {
     "data": {
      "text/plain": [
       "{1: 25, 2: 50, 3: 150, 4: 175, 5: 125}"
      ]
     },
     "execution_count": 32,
     "metadata": {},
     "output_type": "execute_result"
    }
   ],
   "source": [
    "d1"
   ]
  },
  {
   "cell_type": "markdown",
   "id": "033de9e2",
   "metadata": {},
   "source": [
    "### homework"
   ]
  },
  {
   "cell_type": "code",
   "execution_count": 5,
   "id": "14214d77",
   "metadata": {},
   "outputs": [
    {
     "ename": "SyntaxError",
     "evalue": "invalid syntax (Temp/ipykernel_4780/2838800466.py, line 1)",
     "output_type": "error",
     "traceback": [
      "\u001b[1;36m  File \u001b[1;32m\"C:\\Users\\admin\\AppData\\Local\\Temp/ipykernel_4780/2838800466.py\"\u001b[1;36m, line \u001b[1;32m1\u001b[0m\n\u001b[1;33m    we have list of fruit\u001b[0m\n\u001b[1;37m       ^\u001b[0m\n\u001b[1;31mSyntaxError\u001b[0m\u001b[1;31m:\u001b[0m invalid syntax\n"
     ]
    }
   ],
   "source": [
    "# we have list of fruit\n",
    "l = [\"apple\", \"banana\", \"orange\", \"kiwi\", \"\"]\n"
   ]
  },
  {
   "cell_type": "code",
   "execution_count": null,
   "id": "9b5ec234",
   "metadata": {},
   "outputs": [],
   "source": []
  },
  {
   "cell_type": "code",
   "execution_count": null,
   "id": "bdd1becf",
   "metadata": {},
   "outputs": [],
   "source": []
  }
 ],
 "metadata": {
  "kernelspec": {
   "display_name": "Python 3 (ipykernel)",
   "language": "python",
   "name": "python3"
  },
  "language_info": {
   "codemirror_mode": {
    "name": "ipython",
    "version": 3
   },
   "file_extension": ".py",
   "mimetype": "text/x-python",
   "name": "python",
   "nbconvert_exporter": "python",
   "pygments_lexer": "ipython3",
   "version": "3.9.7"
  }
 },
 "nbformat": 4,
 "nbformat_minor": 5
}
