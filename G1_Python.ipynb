{
 "cells": [
  {
   "cell_type": "code",
   "execution_count": 1,
   "id": "9a912fed",
   "metadata": {},
   "outputs": [],
   "source": [
    "# 5. Define a class which has at least two methods: getString: to get a string from console input \n",
    "# printString: to print the string in upper case. Also please include simple test function to test\n",
    "# the class methods. Hints: Use __init__ method to construct some parameters \n"
   ]
  },
  {
   "cell_type": "code",
   "execution_count": 2,
   "id": "fa62d48a",
   "metadata": {},
   "outputs": [
    {
     "name": "stdout",
     "output_type": "stream",
     "text": [
      "AnushKR\n",
      "ANUSHKR\n"
     ]
    }
   ],
   "source": [
    "class string():\n",
    "    def __init__(self):\n",
    "        self.str = \"about string\"\n",
    "    def get_string(self):\n",
    "        self.str = input()\n",
    "    def print_string(self):\n",
    "        print(self.str.upper())\n",
    "st = string()\n",
    "st.get_string()\n",
    "st.print_string()\n"
   ]
  },
  {
   "cell_type": "code",
   "execution_count": 3,
   "id": "de3567ec",
   "metadata": {},
   "outputs": [],
   "source": [
    "# 6. Write a program that calculates and prints the value according to the given formula: \n",
    "# Q = Square root of [(2 * C * D)/H] \n",
    "# Following are the fixed values of C and H: C is 50. H is 30. \n",
    "# D is the variable whose values should be input to your program in a comma-separated sequence. \n",
    "# Let us assume the following comma separated input sequence is given to the program: \n",
    "# 100,150,180 \n",
    "# The output of the program should be: 18, 22, 24 \n",
    "# Hints: If the output received is in decimal form, it should be rounded off to its nearest value\n",
    "# (for example, if the output received is 26.0, it should be printed as 26) \n",
    "# In case of input data being supplied to the question, it should be assumed to be a console\n",
    "# input\n"
   ]
  },
  {
   "cell_type": "code",
   "execution_count": 4,
   "id": "c3af406d",
   "metadata": {},
   "outputs": [
    {
     "data": {
      "text/plain": [
       "3.0"
      ]
     },
     "execution_count": 4,
     "metadata": {},
     "output_type": "execute_result"
    }
   ],
   "source": [
    "import math\n",
    "math.sqrt(9)"
   ]
  },
  {
   "cell_type": "code",
   "execution_count": null,
   "id": "55b8c69e",
   "metadata": {},
   "outputs": [],
   "source": [
    "import math\n",
    "c=50\n",
    "h=30\n",
    "value = []\n",
    "items=[x for x in input().split(',')]\n",
    "for d in items:\n",
    "    value.append(str(int(round(math.sqrt(2*c*float(d)/h)))))\n",
    "\n",
    "print(','.join(value))"
   ]
  }
 ],
 "metadata": {
  "kernelspec": {
   "display_name": "Python 3 (ipykernel)",
   "language": "python",
   "name": "python3"
  },
  "language_info": {
   "codemirror_mode": {
    "name": "ipython",
    "version": 3
   },
   "file_extension": ".py",
   "mimetype": "text/x-python",
   "name": "python",
   "nbconvert_exporter": "python",
   "pygments_lexer": "ipython3",
   "version": "3.9.7"
  }
 },
 "nbformat": 4,
 "nbformat_minor": 5
}
