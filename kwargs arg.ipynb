{
 "cells": [
  {
   "cell_type": "code",
   "execution_count": 22,
   "id": "3ee00605",
   "metadata": {},
   "outputs": [
    {
     "name": "stdout",
     "output_type": "stream",
     "text": [
      "saloni\n",
      "(28, 'mumbai', 8587877)\n"
     ]
    }
   ],
   "source": [
    "def fun(name,*data):\n",
    "    print(name)\n",
    "    print(data)\n",
    "fun('saloni',28,'mumbai',8587877)"
   ]
  },
  {
   "cell_type": "code",
   "execution_count": 23,
   "id": "f39e4121",
   "metadata": {},
   "outputs": [
    {
     "name": "stdout",
     "output_type": "stream",
     "text": [
      "saloni\n",
      "{'age': 28, 'place': 'mumbai', 'phone': 8587877}\n"
     ]
    }
   ],
   "source": [
    "def fun(name,**data):\n",
    "    print(name)\n",
    "    print(data)\n",
    "fun('saloni',age = 28,place = 'mumbai',phone=8587877)"
   ]
  },
  {
   "cell_type": "code",
   "execution_count": 24,
   "id": "1872f167",
   "metadata": {},
   "outputs": [
    {
     "name": "stdout",
     "output_type": "stream",
     "text": [
      "saloni\n",
      "age 28\n",
      "place mumbai\n",
      "phone 8587877\n"
     ]
    }
   ],
   "source": [
    "def person(name,**kwargs):\n",
    "    print(name)\n",
    "    for i,j in kwargs.items():\n",
    "        print(i,j)\n",
    "        \n",
    "person('saloni',age = 28,place = 'mumbai',phone=8587877)"
   ]
  },
  {
   "cell_type": "markdown",
   "id": "a88fa25a",
   "metadata": {},
   "source": [
    "###  fibonacci series"
   ]
  },
  {
   "cell_type": "code",
   "execution_count": 7,
   "id": "5d6dc6f2",
   "metadata": {},
   "outputs": [],
   "source": [
    "#[0,1,1,2,3,5,8,13,21,.........]( where every next number is the sum of previous two)"
   ]
  },
  {
   "cell_type": "code",
   "execution_count": 25,
   "id": "552e7f97",
   "metadata": {},
   "outputs": [
    {
     "name": "stdout",
     "output_type": "stream",
     "text": [
      "1\n",
      "2\n",
      "3\n",
      "5\n",
      "8\n",
      "13\n",
      "21\n",
      "34\n"
     ]
    }
   ],
   "source": [
    "def fib(n):\n",
    "    a = 0\n",
    "    b = 1\n",
    "    for i in range(2,n):\n",
    "        c = a+b\n",
    "        a = b\n",
    "        b = c\n",
    "        print(c)\n",
    "fib(10)"
   ]
  },
  {
   "cell_type": "code",
   "execution_count": null,
   "id": "88c85401",
   "metadata": {},
   "outputs": [],
   "source": []
  },
  {
   "cell_type": "code",
   "execution_count": null,
   "id": "0a552c3e",
   "metadata": {},
   "outputs": [],
   "source": []
  },
  {
   "cell_type": "code",
   "execution_count": null,
   "id": "8505ac4b",
   "metadata": {},
   "outputs": [],
   "source": []
  },
  {
   "cell_type": "code",
   "execution_count": null,
   "id": "f9b88822",
   "metadata": {},
   "outputs": [],
   "source": []
  },
  {
   "cell_type": "code",
   "execution_count": null,
   "id": "778ea07c",
   "metadata": {},
   "outputs": [],
   "source": []
  }
 ],
 "metadata": {
  "kernelspec": {
   "display_name": "Python 3 (ipykernel)",
   "language": "python",
   "name": "python3"
  },
  "language_info": {
   "codemirror_mode": {
    "name": "ipython",
    "version": 3
   },
   "file_extension": ".py",
   "mimetype": "text/x-python",
   "name": "python",
   "nbconvert_exporter": "python",
   "pygments_lexer": "ipython3",
   "version": "3.9.7"
  }
 },
 "nbformat": 4,
 "nbformat_minor": 5
}
