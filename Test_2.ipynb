{
 "cells": [
  {
   "cell_type": "code",
   "execution_count": 4,
   "id": "3d42e13f",
   "metadata": {},
   "outputs": [
    {
     "name": "stdout",
     "output_type": "stream",
     "text": [
      " average is  6.0\n"
     ]
    }
   ],
   "source": [
    "#1\n",
    "l = [2,5,8,9]\n",
    "avg = sum(l)/len(l)\n",
    "print(\" average is \", avg)"
   ]
  },
  {
   "cell_type": "code",
   "execution_count": 68,
   "id": "94639a1e",
   "metadata": {},
   "outputs": [
    {
     "data": {
      "text/plain": [
       "['b', 'c', 'd', 'e', 'f']"
      ]
     },
     "execution_count": 68,
     "metadata": {},
     "output_type": "execute_result"
    }
   ],
   "source": [
    "# Q2.Write a function called chop that takes a list and modifies it, \n",
    "# removing the first and last elements, and returns None. Then write\n",
    "# a function called middle that takes a list and returns a new list that contains all but the first and last elements.\n",
    "\n",
    "chop = ['a','b','c','d','e','f']\n",
    "chop.remove('a')\n",
    "chop\n"
   ]
  },
  {
   "cell_type": "code",
   "execution_count": 69,
   "id": "a9a84df0",
   "metadata": {},
   "outputs": [
    {
     "data": {
      "text/plain": [
       "'f'"
      ]
     },
     "execution_count": 69,
     "metadata": {},
     "output_type": "execute_result"
    }
   ],
   "source": [
    "chop.pop()\n"
   ]
  },
  {
   "cell_type": "code",
   "execution_count": 70,
   "id": "50ec1fec",
   "metadata": {},
   "outputs": [
    {
     "data": {
      "text/plain": [
       "['b', 'c', 'd', 'e']"
      ]
     },
     "execution_count": 70,
     "metadata": {},
     "output_type": "execute_result"
    }
   ],
   "source": [
    "chop"
   ]
  },
  {
   "cell_type": "code",
   "execution_count": 74,
   "id": "26f079bf",
   "metadata": {},
   "outputs": [
    {
     "name": "stdout",
     "output_type": "stream",
     "text": [
      "b\n",
      "c\n",
      "d\n",
      "e\n"
     ]
    }
   ],
   "source": [
    "middle = []\n",
    "for i in chop:\n",
    "    print(i)\n",
    "    middle.append(i)\n",
    "    "
   ]
  },
  {
   "cell_type": "code",
   "execution_count": 8,
   "id": "273c2660",
   "metadata": {},
   "outputs": [
    {
     "data": {
      "text/plain": [
       "Counter({'b': 1, 'r': 2, 'o': 2, 'n': 1, 't': 1, 's': 2, 'a': 1, 'u': 2})"
      ]
     },
     "execution_count": 8,
     "metadata": {},
     "output_type": "execute_result"
    }
   ],
   "source": [
    "# 4\n",
    "from collections import Counter\n",
    "word = \"brontosaurus\"\n",
    "\n",
    "s = Counter(word)\n",
    "s"
   ]
  },
  {
   "cell_type": "code",
   "execution_count": 15,
   "id": "3ab0738c",
   "metadata": {},
   "outputs": [
    {
     "name": "stdout",
     "output_type": "stream",
     "text": [
      "show\n",
      "show\n",
      "show\n",
      "5\n",
      "7\n",
      "5\n",
      "8\n"
     ]
    }
   ],
   "source": [
    "#5\n",
    "d = { 'a' : 3, 'b' : 4, 'c' : 5, 'd' : 7, 'e' : 8}\n",
    "for i,j in d.items():\n",
    "    if j>5:\n",
    "        print(len(d))\n",
    "#         print(d[i])\n",
    "    else:\n",
    "        print(\"show\")"
   ]
  },
  {
   "cell_type": "code",
   "execution_count": null,
   "id": "2a674ff4",
   "metadata": {},
   "outputs": [],
   "source": [
    "#6 Given an integer, n, perform the following conditional actions:\n",
    "\n",
    "# If  n is odd, print Weird\n",
    "# If  n is even and in the inclusive range of  2 to 5, print Not Weird\n",
    "# If  n is even and in the inclusive range of  6 to 20, print Weird\n",
    "# If  n is even and greater than  20 , print Not Weird\n"
   ]
  },
  {
   "cell_type": "code",
   "execution_count": 18,
   "id": "7274c140",
   "metadata": {},
   "outputs": [
    {
     "name": "stdout",
     "output_type": "stream",
     "text": [
      "enter integer67\n",
      " Weird\n"
     ]
    }
   ],
   "source": [
    "#6\n",
    "n = int(input(\"enter integer\"))\n",
    "if n%2!=0:\n",
    "    print(\" Weird\")\n",
    "elif n%2==0 and 2<=n<=5:\n",
    "    print(\"Not weird\")\n",
    "elif n%2==0 and 6<=n<=20:\n",
    "    print(\" Weird\")\n",
    "elif n%2==0 and n>20:\n",
    "    print(\"Not Weird\")\n",
    "else:\n",
    "    print(\"nothing found\")"
   ]
  },
  {
   "cell_type": "code",
   "execution_count": 77,
   "id": "c8d06d5d",
   "metadata": {},
   "outputs": [
    {
     "name": "stdout",
     "output_type": "stream",
     "text": [
      "3500000000\n"
     ]
    }
   ],
   "source": [
    "#7.Write a function to compute the population of india in 2050 when i say it will be 7 times of todays population.\n",
    "def population(a):\n",
    "    pop_2050 = 7*a\n",
    "    print(pop_2050)\n",
    "population(500000000)"
   ]
  },
  {
   "cell_type": "code",
   "execution_count": 29,
   "id": "906a4c5b",
   "metadata": {},
   "outputs": [
    {
     "name": "stdout",
     "output_type": "stream",
     "text": [
      "Not Lengthy\n",
      "Not Lengthy\n",
      "Not Lengthy\n",
      "Not Lengthy\n",
      "Not Lengthy\n",
      "Not Lengthy\n",
      "Not Lengthy\n",
      " lengthy\n",
      " lengthy\n",
      " lengthy\n",
      "['sun', 'jan', 'feb']\n",
      "['sun', 'mon', 'tues', 'wed', 'Thurs', ' fri', 'sat']\n"
     ]
    }
   ],
   "source": [
    "# Q8. write a function to count the no. of elements in a list .and if the count of element is \n",
    "# greater than 6 ,print the element and say lengthy . \n",
    "l = [\"sun\", \"mon\", \"tues\", \"wed\",\"Thurs\",\" fri\", \"sat\", \"sun\",\"jan\",\"feb\"]\n",
    "l1 = []\n",
    "l2 = []\n",
    "for i in range(0,len(l)):\n",
    "    if i>6:\n",
    "        print(\" lengthy\")\n",
    "        l1.append(l[i])\n",
    "    else:\n",
    "        print(\"Not Lengthy\")\n",
    "        l2.append(l[i])\n",
    "print(l1)\n",
    "print(l2)\n"
   ]
  },
  {
   "cell_type": "code",
   "execution_count": 82,
   "id": "e2467d14",
   "metadata": {},
   "outputs": [],
   "source": [
    "# Q9.Create a Python class called BankAccount which represents a bank account,\n",
    "# having as attributes: accountNumber (numeric type), name (name of the account owner as string type), balance.\n",
    "#  Create a constructor with parameters: accountNumber, name, balance.\n",
    "#  Create a Deposit() method which manages the deposit actions.\n",
    "#  Create a Withdrawal() method which manages withdrawals actions.\n",
    "#  Create a bankFees() method to apply the bank fees with a percentage of 5% of the balance account.\n",
    "#  Create a display()**\n",
    "\n",
    "\n",
    "class BankAccount:\n",
    "    def __init__(self,acc_num,name,balance):\n",
    "        self.acc_num = int(input(\" enter accnt num\"))\n",
    "        self.name = input(\" enter name\")\n",
    "        self.balance = int(input(\"enter balance\"))\n",
    "#         self.deposit = deposit\n",
    "    def deposit(self):\n",
    "        dep= int(input(\"Enter the amount to be Deposited : \"))\n",
    "        net_bal = self.balance +self.depst\n",
    "        self.balance = net_bal\n",
    "        print(self.balance) \n",
    "    def withdrawl(self):\n",
    "        withdwl = int(input(\"enter the amount withdrawn :\" ))\n",
    "        net_bal = self.balance - self.witdrl\n",
    "        self.balance = net_bal\n",
    "        print(self.balance)\n",
    "    def bank_fees(self):\n",
    "        fees = 0.05*self.balance\n",
    "        print(\" bank fees is\", fees)\n",
    "b = BankAccount(12,\"abc\",567)\n",
    "b.deposit()\n",
    "b.withdrwal()\n",
    "    "
   ]
  },
  {
   "cell_type": "code",
   "execution_count": 83,
   "id": "f1ec8820",
   "metadata": {},
   "outputs": [
    {
     "name": "stdout",
     "output_type": "stream",
     "text": [
      " today is saturday \n",
      " we are having test \n",
      " test contains 10 questions \n",
      "\n",
      " we got it\n"
     ]
    }
   ],
   "source": [
    "# Q10.WAP to handle filenotfound error in file handling . then rectify the error and print a \n",
    "# dictionary where the line’s length is the value and line no. is the key of the dict.\n",
    "\n",
    "try:\n",
    "    with open(\"rst.txt\",\"r\") as f:\n",
    "        print(f.read())\n",
    "except:\n",
    "    print(\"try is wrong\")\n",
    "    with open(\"rst.txt\",\"x\") as f:\n",
    "        f.write(\" today is saturday \\n we are having test \\n test contains 10 questions \\n\")\n",
    "        try:\n",
    "            with open(\"rst.txt\",\"r\") as f:\n",
    "                l1 = f.readlines()\n",
    "                print(l1)\n",
    "        except:\n",
    "            print(\"try is wrong\")\n",
    "        else:\n",
    "            with open(\"rst.txt\",\"x\") as f:\n",
    "                l2 = f.len()\n",
    "                print(l2)\n",
    "                \n",
    "else:\n",
    "    pass\n",
    "finally:\n",
    "    print(\" we got it\")\n"
   ]
  },
  {
   "cell_type": "code",
   "execution_count": null,
   "id": "fd6c3e87",
   "metadata": {},
   "outputs": [],
   "source": []
  }
 ],
 "metadata": {
  "kernelspec": {
   "display_name": "Python 3 (ipykernel)",
   "language": "python",
   "name": "python3"
  },
  "language_info": {
   "codemirror_mode": {
    "name": "ipython",
    "version": 3
   },
   "file_extension": ".py",
   "mimetype": "text/x-python",
   "name": "python",
   "nbconvert_exporter": "python",
   "pygments_lexer": "ipython3",
   "version": "3.9.7"
  }
 },
 "nbformat": 4,
 "nbformat_minor": 5
}
